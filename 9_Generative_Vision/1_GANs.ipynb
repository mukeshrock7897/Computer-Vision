{
 "cells": [
  {
   "cell_type": "markdown",
   "metadata": {},
   "source": [
    "---\n",
    "\n",
    "# 🧑‍🎨 Generative Adversarial Networks (GANs)\n",
    "\n",
    "## 🎯 Intent\n",
    "\n",
    "Generate **realistic images** 🖼️ by training two networks (Generator 🤖 vs. Discriminator 👀) in competition.\n",
    "\n",
    "---\n",
    "\n",
    "## 📌 Applications\n",
    "\n",
    "* 🖼️ **Image Synthesis** → create new, realistic photos\n",
    "* 🔄 **Style Transfer** → CycleGAN (turn horses 🐎 → zebras 🦓, summer → winter)\n",
    "* 🔍 **Super-Resolution** → SRGAN for upscaling low-res → high-res\n",
    "* 🎭 **Image-to-Image Translation** → edges → photos, sketches → faces\n",
    "\n",
    "---\n",
    "\n",
    "## ✅ Quick Summary\n",
    "\n",
    "* 👉 GAN = generator creates, discriminator judges ⚖️\n",
    "* 👉 Used for synthesis, enhancement, creative AI 🎨\n",
    "* 👉 Powerful but tricky to train ⚡\n",
    "\n",
    "---\n"
   ]
  },
  {
   "cell_type": "markdown",
   "metadata": {},
   "source": []
  }
 ],
 "metadata": {
  "language_info": {
   "name": "python"
  }
 },
 "nbformat": 4,
 "nbformat_minor": 2
}
