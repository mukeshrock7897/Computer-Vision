{
 "cells": [
  {
   "cell_type": "markdown",
   "metadata": {},
   "source": [
    "---\n",
    "\n",
    "# 📊 Machine Learning Core Concepts (for CV)\n",
    "\n",
    "## 🎯 Intent\n",
    "\n",
    "Apply **traditional ML** 📈 to image data before deep learning took over.\n",
    "\n",
    "---\n",
    "\n",
    "## 📌 Key Concepts\n",
    "\n",
    "* 🎯 **Supervised Learning** → labeled images (cat 🐱 vs dog 🐶)\n",
    "* 🔍 **Unsupervised Learning** → clustering images (group by similarity)\n",
    "* 🛠️ **Feature Engineering** → handcrafted features (HOG, SIFT, color histograms)\n",
    "\n",
    "---\n",
    "\n",
    "## ✅ Quick Summary\n",
    "\n",
    "* 👉 ML in CV = learn patterns from features\n",
    "* 👉 Supervised = with labels, Unsupervised = without\n",
    "* 👉 Foundation for deep learning approaches ⚡\n",
    "\n",
    "---\n"
   ]
  },
  {
   "cell_type": "markdown",
   "metadata": {},
   "source": []
  }
 ],
 "metadata": {
  "language_info": {
   "name": "python"
  }
 },
 "nbformat": 4,
 "nbformat_minor": 2
}
