{
 "cells": [
  {
   "cell_type": "markdown",
   "metadata": {},
   "source": [
    "---\n",
    "\n",
    "# 🔑 Feature Detection & Matching\n",
    "\n",
    "## 🎯 Intent\n",
    "\n",
    "Identify **keypoints** 🔍 in images and match them across different views for recognition & tracking.\n",
    "\n",
    "---\n",
    "\n",
    "## 📌 Techniques\n",
    "\n",
    "* 📍 **Corner Detection** → Harris, Shi-Tomasi\n",
    "* ✨ **Local Descriptors** → SIFT, SURF, ORB\n",
    "* 🔗 **Keypoint Matching** →\n",
    "\n",
    "  * BFMatcher (Brute Force)\n",
    "  * FLANN (Fast Approximate Nearest Neighbor)\n",
    "\n",
    "---\n",
    "\n",
    "## ✅ Quick Summary\n",
    "\n",
    "* 👉 Keypoints = unique spots in an image 📌\n",
    "* 👉 Descriptors = signatures for those keypoints ✍️\n",
    "* 👉 Matching = connect features across images for tasks like stitching 🧵\n",
    "\n",
    "---\n"
   ]
  },
  {
   "cell_type": "markdown",
   "metadata": {},
   "source": []
  }
 ],
 "metadata": {
  "language_info": {
   "name": "python"
  }
 },
 "nbformat": 4,
 "nbformat_minor": 2
}
