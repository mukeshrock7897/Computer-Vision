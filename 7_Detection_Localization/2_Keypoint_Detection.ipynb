{
 "cells": [
  {
   "cell_type": "markdown",
   "metadata": {},
   "source": [
    "---\n",
    "\n",
    "# 📍 Keypoint Detection\n",
    "\n",
    "## 🎯 Intent\n",
    "\n",
    "Find **distinctive points** 🔎 (corners, landmarks, joints) in images for matching, tracking, and pose.\n",
    "\n",
    "---\n",
    "\n",
    "## 📌 Methods\n",
    "\n",
    "* 🧱 **Corners** → Harris, Shi–Tomasi (good for tracking)\n",
    "* ✨ **Local Features** → SIFT, SURF, ORB (rotation/scale-invariant)\n",
    "* 🔗 **Matching** → BFMatcher, FLANN (feature vector nearest neighbors)\n",
    "* 🧍 **Pose Keypoints** → OpenPose / BlazePose (human joints), facial landmarks\n",
    "\n",
    "---\n",
    "\n",
    "## ✅ Quick Summary\n",
    "\n",
    "* 👉 Keypoints = reliable anchors in images\n",
    "* 👉 Descriptors = signatures to compare/match\n",
    "* 👉 Used in stitching, SLAM, AR, pose estimation 🎯\n",
    "\n",
    "---\n"
   ]
  },
  {
   "cell_type": "markdown",
   "metadata": {},
   "source": []
  }
 ],
 "metadata": {
  "language_info": {
   "name": "python"
  }
 },
 "nbformat": 4,
 "nbformat_minor": 2
}
