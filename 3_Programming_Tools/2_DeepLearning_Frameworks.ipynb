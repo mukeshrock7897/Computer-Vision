{
 "cells": [
  {
   "cell_type": "markdown",
   "metadata": {},
   "source": [
    "---\n",
    "\n",
    "# 🧠 Deep Learning Frameworks for CV\n",
    "\n",
    "## 🎯 Intent\n",
    "\n",
    "Build & train neural networks 🕸️ for image/video tasks using modern frameworks.\n",
    "\n",
    "---\n",
    "\n",
    "## 📌 Key Frameworks\n",
    "\n",
    "* 🔥 **PyTorch** → flexible, dynamic graphs, research favorite\n",
    "* ⚡ **TensorFlow / Keras** → high-level API, industry production-ready\n",
    "* 📦 **Pretrained Models** → torchvision (ResNet, VGG), Hugging Face (ViT, DETR)\n",
    "\n",
    "---\n",
    "\n",
    "## ✅ Quick Summary\n",
    "\n",
    "* 👉 PyTorch = research & flexibility 🧪\n",
    "* 👉 TensorFlow/Keras = deployment & scale 🌐\n",
    "* 👉 Pretrained models save **time + compute** ⏳\n",
    "\n",
    "---\n"
   ]
  },
  {
   "cell_type": "markdown",
   "metadata": {},
   "source": []
  }
 ],
 "metadata": {
  "language_info": {
   "name": "python"
  }
 },
 "nbformat": 4,
 "nbformat_minor": 2
}
