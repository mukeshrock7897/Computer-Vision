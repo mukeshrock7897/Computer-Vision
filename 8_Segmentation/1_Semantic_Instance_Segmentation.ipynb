{
 "cells": [
  {
   "cell_type": "markdown",
   "metadata": {},
   "source": [
    "---\n",
    "\n",
    "# 🎨 Semantic & Instance Segmentation\n",
    "\n",
    "## 🎯 Intent\n",
    "\n",
    "Label every pixel 🖼️ in an image to understand objects at a **fine-grained level**.\n",
    "\n",
    "---\n",
    "\n",
    "## 📌 Types\n",
    "\n",
    "* 🧩 **Semantic Segmentation** → classify each pixel into categories (car 🚗, road 🛣️, tree 🌳)\n",
    "* 🧍 **Instance Segmentation** → distinguish between different objects of the same type (two cars 🚗🚗 separately)\n",
    "\n",
    "---\n",
    "\n",
    "## 📌 Models\n",
    "\n",
    "* 🏥 **U-Net** → medical image segmentation (X-rays, MRI scans)\n",
    "* 🖼️ **DeepLab (v3/v3+)** → strong semantic segmentation with atrous convolutions\n",
    "* 🎯 **Mask R-CNN** → combines detection + segmentation for instances\n",
    "\n",
    "---\n",
    "\n",
    "## ✅ Quick Summary\n",
    "\n",
    "* 👉 Semantic = what category is each pixel 🎨\n",
    "* 👉 Instance = separate objects of the same category 🧍🧍\n",
    "* 👉 Critical for autonomous driving, medical imaging, and robotics ⚡\n",
    "\n",
    "---\n"
   ]
  },
  {
   "cell_type": "markdown",
   "metadata": {},
   "source": []
  }
 ],
 "metadata": {
  "language_info": {
   "name": "python"
  }
 },
 "nbformat": 4,
 "nbformat_minor": 2
}
