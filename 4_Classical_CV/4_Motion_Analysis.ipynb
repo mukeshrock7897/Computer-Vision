{
 "cells": [
  {
   "cell_type": "markdown",
   "metadata": {},
   "source": [
    "---\n",
    "\n",
    "# 🎥 Motion Analysis in CV\n",
    "\n",
    "## 🎯 Intent\n",
    "\n",
    "Understand and track **movement** 🏃 in videos 🎬 for dynamic scene analysis.\n",
    "\n",
    "---\n",
    "\n",
    "## 📌 Techniques\n",
    "\n",
    "* 👀 **Optical Flow** → estimate motion between frames\n",
    "\n",
    "  * Lucas–Kanade (sparse)\n",
    "  * Farnebäck (dense)\n",
    "* 🕵️ **Background Subtraction** → MOG2, KNN for moving object detection\n",
    "* 🎯 **Object Tracking** → follow detected objects across frames\n",
    "\n",
    "---\n",
    "\n",
    "## ✅ Quick Summary\n",
    "\n",
    "* 👉 Motion analysis = detect & track movement\n",
    "* 👉 Optical flow = pixel-level motion vectors\n",
    "* 👉 Background subtraction = isolate moving objects\n",
    "\n",
    "---\n"
   ]
  },
  {
   "cell_type": "markdown",
   "metadata": {},
   "source": []
  }
 ],
 "metadata": {
  "language_info": {
   "name": "python"
  }
 },
 "nbformat": 4,
 "nbformat_minor": 2
}
