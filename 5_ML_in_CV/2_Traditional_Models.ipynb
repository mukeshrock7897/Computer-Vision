{
 "cells": [
  {
   "cell_type": "markdown",
   "metadata": {},
   "source": [
    "---\n",
    "\n",
    "# 🏛️ Traditional ML Models in CV\n",
    "\n",
    "## 🎯 Intent\n",
    "\n",
    "Use **classic algorithms** 📚 to solve vision tasks before deep learning dominance.\n",
    "\n",
    "---\n",
    "\n",
    "## 📌 Key Models\n",
    "\n",
    "* 📊 **SVM (Support Vector Machine)** → strong for image classification\n",
    "* 🎯 **K-Means Clustering** → segment images into regions\n",
    "* 🚶 **HOG + SVM** → pedestrian detection in surveillance\n",
    "* 🌲 **Random Forests** → robust classifier for structured features\n",
    "\n",
    "---\n",
    "\n",
    "## ✅ Quick Summary\n",
    "\n",
    "* 👉 Traditional ML = lightweight & effective for small datasets\n",
    "* 👉 Still used when deep learning is **overkill**\n",
    "* 👉 Good baseline before CNNs 🔥\n",
    "\n",
    "---\n"
   ]
  },
  {
   "cell_type": "markdown",
   "metadata": {},
   "source": []
  }
 ],
 "metadata": {
  "language_info": {
   "name": "python"
  }
 },
 "nbformat": 4,
 "nbformat_minor": 2
}
