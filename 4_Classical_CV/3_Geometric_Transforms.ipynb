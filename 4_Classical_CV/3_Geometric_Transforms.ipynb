{
 "cells": [
  {
   "cell_type": "markdown",
   "metadata": {},
   "source": [
    "---\n",
    "\n",
    "# 📐 Geometric Transformations in CV\n",
    "\n",
    "## 🎯 Intent\n",
    "\n",
    "Modify images 🖼️ while preserving or correcting geometry 🔄.\n",
    "\n",
    "---\n",
    "\n",
    "## 📌 Techniques\n",
    "\n",
    "* 🔀 **Translation** → shift image position\n",
    "* 🔄 **Rotation & Scaling** → change angle & size\n",
    "* 📐 **Affine Transformations** → preserve parallel lines (shear, rotate, scale)\n",
    "* 🎭 **Perspective Transform (Homography)** → warp view as seen from another angle\n",
    "* 🎥 **Camera Calibration & Undistortion** → correct lens distortion\n",
    "\n",
    "---\n",
    "\n",
    "## ✅ Quick Summary\n",
    "\n",
    "* 👉 Geometric transforms = reposition/reshape images\n",
    "* 👉 Homography = align images from different views\n",
    "* 👉 Calibration = fix lens issues for accurate CV tasks 🎯\n",
    "\n",
    "---\n"
   ]
  },
  {
   "cell_type": "markdown",
   "metadata": {},
   "source": []
  }
 ],
 "metadata": {
  "language_info": {
   "name": "python"
  }
 },
 "nbformat": 4,
 "nbformat_minor": 2
}
