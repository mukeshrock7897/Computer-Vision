{
 "cells": [
  {
   "cell_type": "markdown",
   "metadata": {},
   "source": [
    "---\n",
    "\n",
    "# 📸 Data Acquisition in Computer Vision\n",
    "\n",
    "## 🎯 Intent\n",
    "\n",
    "Collect **images & videos** 🎥📷 that will be used to train/test CV models.\n",
    "\n",
    "---\n",
    "\n",
    "## 📌 Sources of Data\n",
    "\n",
    "* 🖼️ **Public Datasets** → COCO, ImageNet, MNIST, OpenImages\n",
    "* 📷 **Custom Capture** → cameras, smartphones, sensors (webcam, CCTV, drones)\n",
    "* 🌐 **Web Scraping** → download from internet (⚠️ check license & ethics)\n",
    "* 🧪 **Synthetic Data** → generated images using simulators (Unity, Blender) or GANs/diffusion models\n",
    "\n",
    "---\n",
    "\n",
    "## ⚖️ Ethical Considerations\n",
    "\n",
    "* 🔒 Respect **privacy** → avoid using faces/personal data without consent\n",
    "* 📜 Follow dataset **licenses** (e.g., CC, open source)\n",
    "* ⚖️ Avoid **bias** → balance across gender, race, conditions (lighting, weather, etc.)\n",
    "\n",
    "---\n",
    "\n",
    "## ✅ Quick Summary\n",
    "\n",
    "* 👉 **Good data = strong model** 💪\n",
    "* 👉 Mix multiple sources (real + synthetic).\n",
    "* 👉 Always keep ethics & privacy in mind.\n",
    "\n",
    "---\n"
   ]
  }
 ],
 "metadata": {
  "language_info": {
   "name": "python"
  }
 },
 "nbformat": 4,
 "nbformat_minor": 2
}
