{
 "cells": [
  {
   "cell_type": "markdown",
   "metadata": {},
   "source": [
    "---\n",
    "\n",
    "# 🖼️ Digital Image Representation\n",
    "\n",
    "## 🎯 Intent\n",
    "\n",
    "Understand how images 🖼️ are stored & represented so machines 🖥️ can process them.\n",
    "\n",
    "---\n",
    "\n",
    "## 📌 Basics\n",
    "\n",
    "* 🔲 **Pixels** → smallest unit of an image (intensity values)\n",
    "* 🎨 **Color Spaces** →\n",
    "\n",
    "  * RGB (Red, Green, Blue)\n",
    "  * Grayscale (black & white)\n",
    "  * HSV (Hue, Saturation, Value)\n",
    "* 🗂️ **Image Formats** → JPEG, PNG, BMP, TIFF\n",
    "* 📊 **Bit Depth** → number of bits per pixel (8-bit = 256 levels, 16-bit = 65k levels)\n",
    "\n",
    "---\n",
    "\n",
    "## ✅ Quick Summary\n",
    "\n",
    "* 👉 Image = grid of pixels 📏\n",
    "* 👉 Color spaces define how colors are represented 🎨\n",
    "* 👉 Format + bit depth affect **quality & size** ⚖️\n",
    "\n",
    "---\n"
   ]
  },
  {
   "cell_type": "markdown",
   "metadata": {},
   "source": []
  }
 ],
 "metadata": {
  "language_info": {
   "name": "python"
  }
 },
 "nbformat": 4,
 "nbformat_minor": 2
}
