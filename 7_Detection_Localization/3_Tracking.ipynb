{
 "cells": [
  {
   "cell_type": "markdown",
   "metadata": {},
   "source": [
    "---\n",
    "\n",
    "# 🎥 Object Tracking\n",
    "\n",
    "## 🎯 Intent\n",
    "\n",
    "Follow objects 🚗👤 across video frames 🎬 after they’ve been detected.\n",
    "\n",
    "---\n",
    "\n",
    "## 📌 Methods\n",
    "\n",
    "* 📊 **Kalman Filter** → predicts object movement (linear, simple cases)\n",
    "* ⚡ **SORT (Simple Online Real-time Tracking)** → combines detection + Kalman filter + Hungarian matching\n",
    "* 🤖 **DeepSORT** → adds deep features for more robust multi-object tracking\n",
    "* 🎯 **CSRT / KCF Trackers (OpenCV)** → single-object tracking options\n",
    "\n",
    "---\n",
    "\n",
    "## ✅ Quick Summary\n",
    "\n",
    "* 👉 Detection = find objects once, Tracking = follow them over time\n",
    "* 👉 Kalman = math-based prediction 📐\n",
    "* 👉 DeepSORT = robust for crowded, real-world tracking 🎥\n",
    "\n",
    "---\n"
   ]
  },
  {
   "cell_type": "markdown",
   "metadata": {},
   "source": []
  }
 ],
 "metadata": {
  "language_info": {
   "name": "python"
  }
 },
 "nbformat": 4,
 "nbformat_minor": 2
}
