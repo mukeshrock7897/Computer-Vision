{
 "cells": [
  {
   "cell_type": "markdown",
   "metadata": {},
   "source": [
    "---\n",
    "\n",
    "# 📏 Evaluation in Computer Vision\n",
    "\n",
    "## 🎯 Intent\n",
    "\n",
    "Measure how well a model 🧠 performs on image/video tasks 🖼️🎥.\n",
    "\n",
    "---\n",
    "\n",
    "## 📌 Metrics\n",
    "\n",
    "* ✅ **Accuracy** → overall correctness (good for classification)\n",
    "* 🎯 **Precision / Recall** → balance false positives & false negatives\n",
    "* ⚖️ **F1-Score** → harmonic mean of precision & recall\n",
    "* 📐 **IoU (Intersection over Union)** → overlap of predicted vs. true boxes (detection/segmentation)\n",
    "* 🏆 **mAP (mean Average Precision)** → gold standard for object detection\n",
    "* ⚡ **FPS (Frames per Second)** → speed for real-time systems\n",
    "\n",
    "---\n",
    "\n",
    "## ✅ Quick Summary\n",
    "\n",
    "* 👉 Pick metrics based on **task** (classification vs detection vs segmentation)\n",
    "* 👉 IoU & mAP = essential for bounding box tasks 🎯\n",
    "* 👉 Accuracy alone is not enough in CV 🚫\n",
    "\n",
    "---\n"
   ]
  },
  {
   "cell_type": "markdown",
   "metadata": {},
   "source": []
  }
 ],
 "metadata": {
  "language_info": {
   "name": "python"
  }
 },
 "nbformat": 4,
 "nbformat_minor": 2
}
