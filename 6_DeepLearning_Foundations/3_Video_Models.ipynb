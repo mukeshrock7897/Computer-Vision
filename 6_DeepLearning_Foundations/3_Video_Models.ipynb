{
 "cells": [
  {
   "cell_type": "markdown",
   "metadata": {},
   "source": [
    "---\n",
    "\n",
    "# 🎬 Sequence Models for Video in CV\n",
    "\n",
    "## 🎯 Intent\n",
    "\n",
    "Capture **temporal patterns** ⏳ in video sequences 🎥 for action recognition & tracking.\n",
    "\n",
    "---\n",
    "\n",
    "## 📌 Approaches\n",
    "\n",
    "* 🔄 **RNN / LSTM** → process frame sequences in order\n",
    "* 🧩 **3D CNNs** → learn spatio-temporal features directly from video clips\n",
    "* 🎥 **Hybrid Models** → CNN (spatial) + RNN (temporal)\n",
    "\n",
    "---\n",
    "\n",
    "## ✅ Quick Summary\n",
    "\n",
    "* 👉 Videos = images + time ⏳\n",
    "* 👉 RNN/LSTM = sequence memory\n",
    "* 👉 3D CNNs = best for spatio-temporal tasks 🎯\n",
    "\n",
    "---\n"
   ]
  },
  {
   "cell_type": "markdown",
   "metadata": {},
   "source": []
  }
 ],
 "metadata": {
  "language_info": {
   "name": "python"
  }
 },
 "nbformat": 4,
 "nbformat_minor": 2
}
