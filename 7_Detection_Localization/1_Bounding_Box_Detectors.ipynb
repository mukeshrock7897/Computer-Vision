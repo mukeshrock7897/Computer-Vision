{
 "cells": [
  {
   "cell_type": "markdown",
   "metadata": {},
   "source": [
    "\n",
    "---\n",
    "\n",
    "# 📦 Bounding Box Detectors\n",
    "\n",
    "## 🎯 Intent\n",
    "\n",
    "Locate objects 📍 in an image with **bounding boxes** and classify them 🏷️.\n",
    "\n",
    "---\n",
    "\n",
    "## 📌 Key Methods\n",
    "\n",
    "* 🐢 **R-CNN Family** →\n",
    "\n",
    "  * R-CNN → first region-based CNN detector\n",
    "  * Fast R-CNN → faster with ROI pooling\n",
    "  * Faster R-CNN → adds Region Proposal Network (RPN)\n",
    "  * Mask R-CNN → also supports segmentation\n",
    "\n",
    "* ⚡ **YOLO (You Only Look Once)** →\n",
    "\n",
    "  * Real-time object detection\n",
    "  * Versions YOLOv1 → YOLOv8+ (speed + accuracy improvements)\n",
    "\n",
    "* 📐 **SSD (Single Shot Detector)** → good balance of speed & accuracy\n",
    "\n",
    "---\n",
    "\n",
    "## ✅ Quick Summary\n",
    "\n",
    "* 👉 Bounding boxes = **what + where**\n",
    "* 👉 R-CNN = accuracy 🎯, YOLO = speed ⚡\n",
    "* 👉 SSD = middle ground ⚖️\n",
    "\n",
    "---\n",
    "\n"
   ]
  },
  {
   "cell_type": "markdown",
   "metadata": {},
   "source": []
  }
 ],
 "metadata": {
  "language_info": {
   "name": "python"
  }
 },
 "nbformat": 4,
 "nbformat_minor": 2
}
