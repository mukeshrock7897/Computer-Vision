{
 "cells": [
  {
   "cell_type": "markdown",
   "metadata": {},
   "source": [
    "---\n",
    "\n",
    "# 🛠️ 3D Reconstruction in CV\n",
    "\n",
    "## 🎯 Intent\n",
    "\n",
    "Rebuild **3D structure** 🏗️ of a scene or object from 2D images/videos 🖼️🎥.\n",
    "\n",
    "---\n",
    "\n",
    "## 📌 Techniques\n",
    "\n",
    "* 👀 **Stereo Vision** → depth from two cameras (like human eyes 👁️👁️)\n",
    "* 🎥 **Structure from Motion (SfM)** → 3D from multiple moving camera views\n",
    "* 📏 **Depth Estimation** → monocular depth (e.g., MiDaS)\n",
    "* 🛰️ **Multi-View Geometry** → combine images from many angles\n",
    "\n",
    "---\n",
    "\n",
    "## 📌 Applications\n",
    "\n",
    "* 🏗️ AR/VR → realistic 3D environments\n",
    "* 🛰️ Mapping → drones, satellite reconstruction\n",
    "* 🏥 Medical → 3D organ modeling from scans\n",
    "\n",
    "---\n",
    "\n",
    "## ✅ Quick Summary\n",
    "\n",
    "* 👉 3D reconstruction = flat images → 3D worlds 🌍\n",
    "* 👉 Used in AR/VR, robotics, drones, and medical imaging ⚡\n",
    "\n",
    "---\n"
   ]
  },
  {
   "cell_type": "markdown",
   "metadata": {},
   "source": []
  }
 ],
 "metadata": {
  "language_info": {
   "name": "python"
  }
 },
 "nbformat": 4,
 "nbformat_minor": 2
}
