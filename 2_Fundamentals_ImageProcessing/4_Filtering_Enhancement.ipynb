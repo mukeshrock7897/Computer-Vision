{
 "cells": [
  {
   "cell_type": "markdown",
   "metadata": {},
   "source": [
    "---\n",
    "\n",
    "# 🎚️ Filtering & Enhancement in CV\n",
    "\n",
    "## 🎯 Intent\n",
    "\n",
    "Improve image quality ✨ and highlight important features 🔍 for better model performance.\n",
    "\n",
    "---\n",
    "\n",
    "## 📌 Techniques\n",
    "\n",
    "* 🔄 **Convolution** → apply kernels to detect patterns\n",
    "* 🌫️ **Noise Reduction** → Gaussian, Median, Bilateral filters\n",
    "* 💡 **Histogram Equalization** → enhance contrast\n",
    "* ⚖️ **Thresholding** →\n",
    "\n",
    "  * Global (simple)\n",
    "  * Otsu’s method\n",
    "  * Adaptive thresholding\n",
    "\n",
    "---\n",
    "\n",
    "## ✅ Quick Summary\n",
    "\n",
    "* 👉 Filtering = remove noise 🧹\n",
    "* 👉 Enhancement = improve visibility 🔦\n",
    "* 👉 Helps models focus on **important patterns** 🎯\n",
    "\n",
    "---\n"
   ]
  },
  {
   "cell_type": "markdown",
   "metadata": {},
   "source": []
  }
 ],
 "metadata": {
  "language_info": {
   "name": "python"
  }
 },
 "nbformat": 4,
 "nbformat_minor": 2
}
